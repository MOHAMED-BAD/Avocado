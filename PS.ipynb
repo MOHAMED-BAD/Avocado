{
 "cells": [
  {
   "cell_type": "code",
   "execution_count": null,
   "metadata": {},
   "outputs": [],
   "source": []
  },
  {
   "cell_type": "code",
   "execution_count": null,
   "metadata": {},
   "outputs": [],
   "source": []
  },
  {
   "cell_type": "code",
   "execution_count": null,
   "metadata": {},
   "outputs": [],
   "source": []
  },
  {
   "cell_type": "code",
   "execution_count": 40,
   "metadata": {},
   "outputs": [
    {
     "name": "stdout",
     "output_type": "stream",
     "text": [
      "0\n",
      "1\n"
     ]
    }
   ],
   "source": [
    "#A. Arpa’s hard exam and Mehrdad’s naive cheat\n",
    "#https://codeforces.com/contest/742/submission/93046975\n",
    "n = int(input())\n",
    "value=[6,8,4,2,6]\n",
    "if(n==0):\n",
    "    print(1)\n",
    "else:    \n",
    "    print(value[n%4])"
   ]
  },
  {
   "cell_type": "code",
   "execution_count": 11,
   "metadata": {},
   "outputs": [
    {
     "name": "stdout",
     "output_type": "stream",
     "text": [
      "1 1\n",
      "1\n"
     ]
    }
   ],
   "source": [
    "#https://codeforces.com/problemset/submission/791/93280730\n",
    "#A. Bear and Big Brother\n",
    "a , b =map(int , input().split())\n",
    "y=0\n",
    "while a <= b:\n",
    "    a = a *3\n",
    "    b = b*2\n",
    "    y+=1\n",
    "print(y)    "
   ]
  },
  {
   "cell_type": "code",
   "execution_count": 20,
   "metadata": {},
   "outputs": [
    {
     "name": "stdout",
     "output_type": "stream",
     "text": [
      "4\n",
      "4 3 4 5\n",
      "3 4 4 5 "
     ]
    }
   ],
   "source": [
    "#https://codeforces.com/problemset/submission/405/93281995\n",
    "#A. Gravity Flip\n",
    "n = int(input())\n",
    "values = map(int , input().split())\n",
    "values=sorted(values)\n",
    "for i in values:\n",
    "    print(i , end=\" \")"
   ]
  },
  {
   "cell_type": "code",
   "execution_count": null,
   "metadata": {},
   "outputs": [],
   "source": []
  },
  {
   "cell_type": "code",
   "execution_count": null,
   "metadata": {},
   "outputs": [],
   "source": []
  },
  {
   "cell_type": "code",
   "execution_count": null,
   "metadata": {},
   "outputs": [],
   "source": []
  }
 ],
 "metadata": {
  "kernelspec": {
   "display_name": "Python 3",
   "language": "python",
   "name": "python3"
  },
  "language_info": {
   "codemirror_mode": {
    "name": "ipython",
    "version": 3
   },
   "file_extension": ".py",
   "mimetype": "text/x-python",
   "name": "python",
   "nbconvert_exporter": "python",
   "pygments_lexer": "ipython3",
   "version": "3.7.6"
  }
 },
 "nbformat": 4,
 "nbformat_minor": 4
}
